{
  "cells": [
    {
      "cell_type": "code",
      "execution_count": null,
      "id": "2aea1963",
      "metadata": {
        "id": "2aea1963",
        "outputId": "f0bcb0f0-1236-4d7f-c1da-faef767e4353"
      },
      "outputs": [
        {
          "name": "stdout",
          "output_type": "stream",
          "text": [
            "Defaulting to user installation because normal site-packages is not writeable\n",
            "Requirement already satisfied: scikit-learn in c:\\programdata\\anaconda3\\lib\\site-packages (1.0.2)\n",
            "Requirement already satisfied: joblib>=0.11 in c:\\programdata\\anaconda3\\lib\\site-packages (from scikit-learn) (1.1.0)\n",
            "Requirement already satisfied: numpy>=1.14.6 in c:\\users\\student\\appdata\\roaming\\python\\python39\\site-packages (from scikit-learn) (1.26.4)\n",
            "Requirement already satisfied: scipy>=1.1.0 in c:\\programdata\\anaconda3\\lib\\site-packages (from scikit-learn) (1.7.3)\n",
            "Requirement already satisfied: threadpoolctl>=2.0.0 in c:\\programdata\\anaconda3\\lib\\site-packages (from scikit-learn) (2.2.0)\n",
            "Collecting numpy>=1.14.6\n",
            "  Downloading numpy-1.22.4-cp39-cp39-win_amd64.whl (14.7 MB)\n",
            "Installing collected packages: numpy\n",
            "  Attempting uninstall: numpy\n",
            "    Found existing installation: numpy 1.26.4\n",
            "    Uninstalling numpy-1.26.4:\n",
            "      Successfully uninstalled numpy-1.26.4\n",
            "Note: you may need to restart the kernel to use updated packages.\n"
          ]
        },
        {
          "name": "stderr",
          "output_type": "stream",
          "text": [
            "  WARNING: The script f2py.exe is installed in 'C:\\Users\\student\\AppData\\Roaming\\Python\\Python39\\Scripts' which is not on PATH.\n",
            "  Consider adding this directory to PATH or, if you prefer to suppress this warning, use --no-warn-script-location.\n",
            "ERROR: Could not install packages due to an OSError: [WinError 5] Access is denied: 'C:\\\\Users\\\\student\\\\AppData\\\\Roaming\\\\Python\\\\Python39\\\\site-packages\\\\~umpy.libs\\\\libopenblas64__v0.3.23-293-gc2f4bdbb-gcc_10_3_0-2bde3a66a51006b2b53eb373ff767a3f.dll'\n",
            "Check the permissions.\n",
            "\n"
          ]
        }
      ],
      "source": [
        "pip install scikit-learn"
      ]
    },
    {
      "cell_type": "code",
      "execution_count": null,
      "id": "5a105c17",
      "metadata": {
        "id": "5a105c17"
      },
      "outputs": [],
      "source": [
        "CORPUS = [\n",
        "'the sky is blue',\n",
        "'sky is blue and sky is beautiful',\n",
        "'the beautiful sky is so blue',\n",
        "'i love blue cheese'\n",
        "]"
      ]
    },
    {
      "cell_type": "code",
      "execution_count": null,
      "id": "31ed3b0f",
      "metadata": {
        "id": "31ed3b0f"
      },
      "outputs": [],
      "source": [
        "new_doc = ['loving this blue sky this a blue today', 'I he ff loving an me today']\n",
        "from sklearn.feature_extraction.text import CountVectorizer\n",
        "vectorizer = CountVectorizer()"
      ]
    },
    {
      "cell_type": "code",
      "execution_count": null,
      "id": "088e697d",
      "metadata": {
        "id": "088e697d"
      },
      "outputs": [],
      "source": [
        "X = vectorizer.fit_transform(new_doc)9"
      ]
    },
    {
      "cell_type": "code",
      "execution_count": null,
      "id": "5599487e",
      "metadata": {
        "id": "5599487e",
        "outputId": "1a872c35-6429-4213-caa6-048544ec0329"
      },
      "outputs": [
        {
          "name": "stdout",
          "output_type": "stream",
          "text": [
            "['an' 'blue' 'ff' 'he' 'loving' 'me' 'sky' 'this' 'today']\n"
          ]
        }
      ],
      "source": [
        "vocabulary=vectorizer.get_feature_names_out()\n",
        "print(vocabulary)"
      ]
    },
    {
      "cell_type": "code",
      "execution_count": null,
      "id": "a67c20b0",
      "metadata": {
        "id": "a67c20b0",
        "outputId": "6912adf3-4f8e-49d4-eb39-af200b34bee9"
      },
      "outputs": [
        {
          "name": "stdout",
          "output_type": "stream",
          "text": [
            "[[0 2 0 0 1 0 1 2 1]\n",
            " [1 0 1 1 1 1 0 0 1]]\n",
            "  (0, 4)\t1\n",
            "  (0, 7)\t2\n",
            "  (0, 1)\t2\n",
            "  (0, 6)\t1\n",
            "  (0, 8)\t1\n",
            "  (1, 4)\t1\n",
            "  (1, 8)\t1\n",
            "  (1, 3)\t1\n",
            "  (1, 2)\t1\n",
            "  (1, 0)\t1\n",
            "  (1, 5)\t1\n",
            "None\n",
            "1\n"
          ]
        }
      ],
      "source": [
        "print(X.toarray())\n",
        "print(X)\n",
        "print(vectorizer.vocabulary_.get('beautiful'))\n",
        "print(vectorizer.vocabulary_.get('blue'))"
      ]
    },
    {
      "cell_type": "code",
      "execution_count": null,
      "id": "757ac3c4",
      "metadata": {
        "id": "757ac3c4",
        "outputId": "05f016e3-0369-4f6b-d7d6-c5e621362fe4"
      },
      "outputs": [
        {
          "data": {
            "text/plain": [
              "['the', 'sky', 'is', 'blue', 'the sky', 'sky is', 'is blue']"
            ]
          },
          "execution_count": 11,
          "metadata": {},
          "output_type": "execute_result"
        }
      ],
      "source": [
        "bigram_vectorizer = CountVectorizer(ngram_range=(1,2))\n",
        "analyze = bigram_vectorizer.build_analyzer()\n",
        "analyze('the sky is blue')"
      ]
    },
    {
      "cell_type": "code",
      "execution_count": null,
      "id": "6723b2ec",
      "metadata": {
        "id": "6723b2ec",
        "outputId": "3bc5c72b-0757-4b64-c6bc-3838cb4782a9"
      },
      "outputs": [
        {
          "name": "stdout",
          "output_type": "stream",
          "text": [
            "['and' 'and sky' 'beautiful' 'beautiful sky' 'blue' 'blue and'\n",
            " 'blue cheese' 'cheese' 'is' 'is beautiful' 'is blue' 'is so' 'love'\n",
            " 'love blue' 'sky' 'sky is' 'so' 'so blue' 'the' 'the beautiful' 'the sky']\n",
            "[[0 0 0 0 1 0 0 0 1 0 1 0 0 0 1 1 0 0 1 0 1]\n",
            " [1 1 1 0 1 1 0 0 2 1 1 0 0 0 2 2 0 0 0 0 0]\n",
            " [0 0 1 1 1 0 0 0 1 0 0 1 0 0 1 1 1 1 1 1 0]\n",
            " [0 0 0 0 1 0 1 1 0 0 0 0 1 1 0 0 0 0 0 0 0]]\n"
          ]
        }
      ],
      "source": [
        "X1= bigram_vectorizer.fit_transform(CORPUS).toarray()\n",
        "voc=bigram_vectorizer.get_feature_names_out()\n",
        "print(voc)\n",
        "print(X1)"
      ]
    },
    {
      "cell_type": "code",
      "execution_count": null,
      "id": "fbf210f7",
      "metadata": {
        "id": "fbf210f7",
        "outputId": "259fe5d6-f875-4b0b-a6d0-36275b2ca297"
      },
      "outputs": [
        {
          "name": "stdout",
          "output_type": "stream",
          "text": [
            "10\n"
          ]
        }
      ],
      "source": [
        "feature_index = bigram_vectorizer.vocabulary_.get('is blue')\n",
        "print(feature_index)"
      ]
    },
    {
      "cell_type": "code",
      "execution_count": null,
      "id": "9422525b",
      "metadata": {
        "id": "9422525b",
        "outputId": "d7a29240-c7b6-48d7-f836-aba071e16a59"
      },
      "outputs": [
        {
          "name": "stdout",
          "output_type": "stream",
          "text": [
            "  (0, 2)\t0.3992102058196136\n",
            "  (0, 4)\t0.4882913888670788\n",
            "  (0, 6)\t0.4882913888670788\n",
            "  (0, 8)\t0.6031370082211672\n",
            "  (1, 1)\t0.3473079263825201\n",
            "  (1, 0)\t0.44051606615876376\n",
            "  (1, 2)\t0.22987955785181605\n",
            "  (1, 4)\t0.5623513975308212\n",
            "  (1, 6)\t0.5623513975308212\n",
            "  (2, 7)\t0.5479699188774512\n",
            "  (2, 1)\t0.4320257780944028\n",
            "  (2, 2)\t0.2859534358554926\n",
            "  (2, 4)\t0.34976210104278727\n",
            "  (2, 6)\t0.34976210104278727\n",
            "  (2, 8)\t0.4320257780944028\n",
            "  (3, 3)\t0.6633846138519129\n",
            "  (3, 5)\t0.6633846138519129\n",
            "  (3, 2)\t0.34618161159873423\n",
            "['and' 'beautiful' 'blue' 'cheese' 'is' 'love' 'sky' 'so' 'the']\n",
            "(4, 9)\n"
          ]
        }
      ],
      "source": [
        "from sklearn.feature_extraction.text import TfidfVectorizer\n",
        "corpus = [\n",
        "'the sky is blue',\n",
        "'sky is blue and sky is beautiful',\n",
        "'the beautiful sky is so blue',\n",
        "'i love blue cheese'\n",
        "]\n",
        "vectorizer = TfidfVectorizer()\n",
        "X = vectorizer.fit_transform(corpus)\n",
        "print (X)\n",
        "print (vectorizer.get_feature_names_out())\n",
        "print(X.shape)"
      ]
    },
    {
      "cell_type": "code",
      "execution_count": null,
      "id": "2b187280",
      "metadata": {
        "id": "2b187280",
        "outputId": "a0e072a5-f1b3-41f8-c1ce-387f70b3fe78"
      },
      "outputs": [
        {
          "name": "stdout",
          "output_type": "stream",
          "text": [
            "[[0 1 0 0 0 0 1 0 0]\n",
            " [0 1 0 0 0 0 2 0 0]\n",
            " [0 1 0 0 0 0 1 0 0]\n",
            " [0 1 0 0 0 0 0 0 0]]\n",
            "['an' 'blue' 'ff' 'he' 'loving' 'me' 'sky' 'this' 'today']\n",
            "[2.60943791 1.         2.60943791 2.60943791 2.60943791 2.60943791\n",
            " 1.22314355 2.60943791 2.60943791]\n",
            "[[0.         0.63295194 0.         0.         0.         0.\n",
            "  0.77419109 0.         0.        ]\n",
            " [0.         0.37838849 0.         0.         0.         0.\n",
            "  0.92564688 0.         0.        ]\n",
            " [0.         0.63295194 0.         0.         0.         0.\n",
            "  0.77419109 0.         0.        ]\n",
            " [0.         1.         0.         0.         0.         0.\n",
            "  0.         0.         0.        ]]\n"
          ]
        }
      ],
      "source": [
        "from sklearn.pipeline import Pipeline\n",
        "from sklearn.feature_extraction.text import TfidfTransformer\n",
        "from sklearn.feature_extraction.text import CountVectorizer\n",
        "pipe = Pipeline([('count', CountVectorizer(vocabulary=vocabulary)),('tfid', TfidfTransformer())])\n",
        "pipe.fit(CORPUS) #Document-term matrix is calculated & TfidfTransformer evaluates Inverse Document frequency (idf)\n",
        "\n",
        "print(pipe['count'].transform(CORPUS).toarray()) #Document-term matrix/ Term Frequency (TF)\n",
        "print(pipe['count'].get_feature_names_out())\n",
        "print(pipe['tfid'].idf_) #Inverse Document Frequency(IDF)\n",
        "transformed_array = pipe.transform(CORPUS).toarray() #Evaluates TF-IDF from IDF matrix\n",
        "print(transformed_array)"
      ]
    },
    {
      "cell_type": "code",
      "execution_count": null,
      "id": "aef23599",
      "metadata": {
        "id": "aef23599"
      },
      "outputs": [],
      "source": []
    }
  ],
  "metadata": {
    "kernelspec": {
      "display_name": "Python 3 (ipykernel)",
      "language": "python",
      "name": "python3"
    },
    "language_info": {
      "codemirror_mode": {
        "name": "ipython",
        "version": 3
      },
      "file_extension": ".py",
      "mimetype": "text/x-python",
      "name": "python",
      "nbconvert_exporter": "python",
      "pygments_lexer": "ipython3",
      "version": "3.9.12"
    },
    "colab": {
      "provenance": []
    }
  },
  "nbformat": 4,
  "nbformat_minor": 5
}