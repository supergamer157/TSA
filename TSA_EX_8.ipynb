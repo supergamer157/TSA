{
  "nbformat": 4,
  "nbformat_minor": 0,
  "metadata": {
    "colab": {
      "provenance": []
    },
    "kernelspec": {
      "name": "python3",
      "display_name": "Python 3"
    },
    "language_info": {
      "name": "python"
    }
  },
  "cells": [
    {
      "cell_type": "code",
      "execution_count": null,
      "metadata": {
        "id": "0sfmloermu1g"
      },
      "outputs": [],
      "source": [
        "import speech_recognition as sr\n",
        "sr.__version__\n",
        "r = sr.Recognizer()\n",
        "harvard = sr.AudioFile(\"harvard.wav\") #read audio file\n",
        "with harvard as source:\n",
        "  audio = r.record(source) #record it\n",
        "print(type(audio))\n",
        "try:\n",
        "  text = r.recognize_google(audio) #recognise\n",
        "  print(\"Recognized Speech:\",text)\n",
        "except sr.UnknownValueError:\n",
        "  print(\"Speech recognition could not understand audio\")\n",
        "except sr.RequestError as e:\n",
        "  print(\"Could not request results from Google Speech Recognition service; {0}\".format(e))\n"
      ]
    }
  ]
}