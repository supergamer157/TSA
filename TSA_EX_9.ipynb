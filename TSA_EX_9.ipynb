{
  "nbformat": 4,
  "nbformat_minor": 0,
  "metadata": {
    "colab": {
      "provenance": []
    },
    "kernelspec": {
      "name": "python3",
      "display_name": "Python 3"
    },
    "language_info": {
      "name": "python"
    }
  },
  "cells": [
    {
      "cell_type": "code",
      "execution_count": null,
      "metadata": {
        "id": "A6DAZ4oRm253"
      },
      "outputs": [],
      "source": [
        "!pip install pydub\n",
        "from pydub import AudioSegment\n",
        "# Load audio file\n",
        "audio = AudioSegment.from_file(\"harvard.wav\")\n",
        "\n",
        "# Convert to MP3 format\n",
        "audio.export(\"output_audio.mp3\", format=\"mp3\")\n",
        "print(\"Audio file converted to MP3 format.\")\n",
        "\n",
        "# Extract part of the audio\n",
        "start_time = 5000 # Start time in milliseconds (5 seconds)\n",
        "end_time = 10000 # End time in milliseconds (10 seconds)\n",
        "extracted_audio = audio[start_time:end_time]\n",
        "\n",
        "# Export extracted audio to WAV format\n",
        "extracted_audio.export(\"extracted_audio.wav\", format=\"wav\")\n",
        "print(\"Extracted audio saved as 'extracted_audio.wav'.\")\n",
        "\n",
        "# Convert extracted audio to MP3 format\n",
        "extracted_audio.export(\"extracted_audio.mp3\", format=\"mp3\")\n",
        "print(\"Extracted Audio file converted to MP3 format.\")\n",
        "\n",
        "# Adjust volume\n",
        "louder_audio = audio + 10 # Increase volume by 10 dB\n",
        "\n",
        "# Export louder audio to WAV format\n",
        "louder_audio.export(\"louder_audio.wav\", format=\"wav\")\n",
        "print(\"Louder audio saved as 'louder_audio.wav'.\")\n",
        "# Convert louder audio to MP3 format\n",
        "louder_audio.export(\"louder_audio.mp3\", format=\"mp3\")\n",
        "print(\"Louder Audio file converted to MP3 format.\")\n"
      ]
    }
  ]
}