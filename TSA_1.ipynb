{
  "nbformat": 4,
  "nbformat_minor": 0,
  "metadata": {
    "colab": {
      "provenance": []
    },
    "kernelspec": {
      "name": "python3",
      "display_name": "Python 3"
    },
    "language_info": {
      "name": "python"
    }
  },
  "cells": [
    {
      "cell_type": "code",
      "execution_count": null,
      "metadata": {
        "colab": {
          "base_uri": "https://localhost:8080/"
        },
        "id": "SYiQO5r6sieb",
        "outputId": "a64f0138-8f37-44a2-ff1c-291a3459cfa8"
      },
      "outputs": [
        {
          "output_type": "stream",
          "name": "stdout",
          "text": [
            "Character P: has index: 0\n",
            "Character Y: has index: 1\n",
            "Character T: has index: 2\n",
            "Character H: has index: 3\n",
            "Character O: has index: 4\n",
            "Character N: has index: 5\n"
          ]
        }
      ],
      "source": [
        "s = 'PYTHON'\n",
        "for index, character in enumerate(s):\n",
        "  print ('Character', character+':', 'has index:', index)\n"
      ]
    },
    {
      "cell_type": "code",
      "source": [
        "\n",
        "print (s[0], s[1], s[2], s[3], s[4], s[5])\n",
        "print (s[-1], s[-2], s[-3], s[-4], s[-5], s[-6])\n"
      ],
      "metadata": {
        "colab": {
          "base_uri": "https://localhost:8080/"
        },
        "id": "St8PJmM5t7YS",
        "outputId": "95461023-e0da-4aab-8369-6ad5b88451ba"
      },
      "execution_count": null,
      "outputs": [
        {
          "output_type": "stream",
          "name": "stdout",
          "text": [
            "P Y T H O N\n",
            "N O H T Y P\n"
          ]
        }
      ]
    },
    {
      "cell_type": "code",
      "source": [
        "print (s[:])\n",
        "print (s[1:4])\n",
        "print (s[:3])\n",
        "print (s[3:])\n",
        "print (s[-3:])\n",
        "print (s[:3] + s[3:])\n",
        "print(s[:3] + s[-3:])\n"
      ],
      "metadata": {
        "colab": {
          "base_uri": "https://localhost:8080/"
        },
        "id": "detM8uF6uKnp",
        "outputId": "5541b34b-454d-43df-a58d-2ad1b7f5eb86"
      },
      "execution_count": null,
      "outputs": [
        {
          "output_type": "stream",
          "name": "stdout",
          "text": [
            "PYTHON\n",
            "YTH\n",
            "PYT\n",
            "HON\n",
            "HON\n",
            "PYTHON\n",
            "PYTHON\n"
          ]
        }
      ]
    },
    {
      "cell_type": "code",
      "source": [
        "s = 'python is great'\n",
        "print (s.capitalize())\n",
        "print (s.upper())\n"
      ],
      "metadata": {
        "colab": {
          "base_uri": "https://localhost:8080/"
        },
        "id": "KL1uMj9BuO0f",
        "outputId": "f11d2575-9b3f-4495-9e83-0c370d0bbbe0"
      },
      "execution_count": null,
      "outputs": [
        {
          "output_type": "stream",
          "name": "stdout",
          "text": [
            "Python is great\n",
            "PYTHON IS GREAT\n"
          ]
        }
      ]
    },
    {
      "cell_type": "code",
      "source": [
        "print (s.replace('python', 'analytics'))\n"
      ],
      "metadata": {
        "colab": {
          "base_uri": "https://localhost:8080/"
        },
        "id": "9FEj4vjquSae",
        "outputId": "ec0196b4-6e2b-42ac-ddde-f4cb2245e4e4"
      },
      "execution_count": null,
      "outputs": [
        {
          "output_type": "stream",
          "name": "stdout",
          "text": [
            "analytics is great\n"
          ]
        }
      ]
    },
    {
      "cell_type": "code",
      "source": [
        "s = 'I,am,a,comma,separated,string'\n",
        "print (s.split(','))\n",
        "print (' '.join(s.split(',')))\n"
      ],
      "metadata": {
        "colab": {
          "base_uri": "https://localhost:8080/"
        },
        "id": "4WNJf_deuWd4",
        "outputId": "3c31197d-3218-4972-b33b-72941b44b88f"
      },
      "execution_count": null,
      "outputs": [
        {
          "output_type": "stream",
          "name": "stdout",
          "text": [
            "['I', 'am', 'a', 'comma', 'separated', 'string']\n",
            "I am a comma separated string\n"
          ]
        }
      ]
    },
    {
      "cell_type": "code",
      "source": [
        "s = ' I am surrounded by spaces '\n",
        "print (s)\n",
        "print (s.strip())\n"
      ],
      "metadata": {
        "colab": {
          "base_uri": "https://localhost:8080/"
        },
        "id": "tvuM-4Ixua1o",
        "outputId": "093ac338-0a3e-4092-9a5b-9a649179bf42"
      },
      "execution_count": null,
      "outputs": [
        {
          "output_type": "stream",
          "name": "stdout",
          "text": [
            " I am surrounded by spaces \n",
            "I am surrounded by spaces\n"
          ]
        }
      ]
    },
    {
      "cell_type": "code",
      "source": [
        "s = 'this is in lower case'\n",
        "print (s.title())\n"
      ],
      "metadata": {
        "colab": {
          "base_uri": "https://localhost:8080/"
        },
        "id": "ppjxlNc9ud_2",
        "outputId": "63fa0737-1271-4732-8e11-7125568de71b"
      },
      "execution_count": null,
      "outputs": [
        {
          "output_type": "stream",
          "name": "stdout",
          "text": [
            "This Is In Lower Case\n"
          ]
        }
      ]
    },
    {
      "cell_type": "code",
      "source": [
        "import re\n",
        "print (re.findall(r'\\w+', s))\n"
      ],
      "metadata": {
        "colab": {
          "base_uri": "https://localhost:8080/"
        },
        "id": "2RmjQ6WiugGs",
        "outputId": "494b050e-a9e1-4f8d-d893-25dbee4fbadb"
      },
      "execution_count": null,
      "outputs": [
        {
          "output_type": "stream",
          "name": "stdout",
          "text": [
            "['this', 'is', 'in', 'lower', 'case']\n"
          ]
        }
      ]
    },
    {
      "cell_type": "code",
      "source": [
        "s = u'H\\u00e8llo'\n",
        "print (s)\n"
      ],
      "metadata": {
        "colab": {
          "base_uri": "https://localhost:8080/"
        },
        "id": "UkZvsASJujUV",
        "outputId": "9ce8cec3-b602-4c47-86c7-cdc9693a1f98"
      },
      "execution_count": null,
      "outputs": [
        {
          "output_type": "stream",
          "name": "stdout",
          "text": [
            "Hèllo\n"
          ]
        }
      ]
    },
    {
      "cell_type": "code",
      "source": [
        "print (re.findall(r'\\w+', s, re.UNICODE))\n"
      ],
      "metadata": {
        "colab": {
          "base_uri": "https://localhost:8080/"
        },
        "id": "q4XFxREmules",
        "outputId": "1315ab62-c35f-4350-f24c-95ca124df523"
      },
      "execution_count": null,
      "outputs": [
        {
          "output_type": "stream",
          "name": "stdout",
          "text": [
            "['Hèllo']\n"
          ]
        }
      ]
    },
    {
      "cell_type": "code",
      "source": [
        "pattern = 'Python'\n",
        "s1 = 'Python is an excellent language'\n",
        "s2 = 'I love the Python language. I also use Python to build applications at work!'\n",
        "print (re.match(pattern, s1))\n"
      ],
      "metadata": {
        "colab": {
          "base_uri": "https://localhost:8080/"
        },
        "id": "ksFw9tOZuoRr",
        "outputId": "90943ddd-13d6-4b7b-be71-0617f1d371ed"
      },
      "execution_count": null,
      "outputs": [
        {
          "output_type": "stream",
          "name": "stdout",
          "text": [
            "<re.Match object; span=(0, 6), match='Python'>\n"
          ]
        }
      ]
    },
    {
      "cell_type": "code",
      "source": [
        "pattern = 'python'\n",
        "s1 = 'Python is an excellent language'\n",
        "s2 = 'I love the Python language. I also use Python to build applications at work!'\n",
        "print (re.match(pattern, s1))\n",
        "print (re.match(pattern, s1, flags=re.IGNORECASE))\n",
        "print (re.search(pattern, s2, re.IGNORECASE))\n",
        "print (re.findall(pattern, s2, re.IGNORECASE))\n"
      ],
      "metadata": {
        "colab": {
          "base_uri": "https://localhost:8080/"
        },
        "id": "Bt1MF4L3uxNb",
        "outputId": "537215fc-5a99-428b-f518-4adf07d58989"
      },
      "execution_count": null,
      "outputs": [
        {
          "output_type": "stream",
          "name": "stdout",
          "text": [
            "None\n",
            "<re.Match object; span=(0, 6), match='Python'>\n",
            "<re.Match object; span=(11, 17), match='Python'>\n",
            "['Python', 'Python']\n"
          ]
        }
      ]
    },
    {
      "cell_type": "code",
      "source": [],
      "metadata": {
        "id": "zGFbF7hyvJtp"
      },
      "execution_count": null,
      "outputs": []
    }
  ]
}