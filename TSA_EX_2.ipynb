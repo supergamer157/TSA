{
  "nbformat": 4,
  "nbformat_minor": 0,
  "metadata": {
    "colab": {
      "provenance": []
    },
    "kernelspec": {
      "name": "python3",
      "display_name": "Python 3"
    },
    "language_info": {
      "name": "python"
    }
  },
  "cells": [
    {
      "cell_type": "code",
      "execution_count": null,
      "metadata": {
        "id": "5ZKxanlDntLG"
      },
      "outputs": [],
      "source": [
        "from nltk.corpus import brown\n",
        "import nltk\n",
        "print('Total Categories:', len(brown.categories()))\n",
        "print(brown.categories())\n",
        "print('Tokenized sentences in mystery category')\n",
        "print(brown.sents(categories='mystery'))\n",
        "\n",
        "print('POS Tagged sentences in mystery category')\n",
        "print(brown.tagged_sents(categories='mystery'))\n",
        "\n",
        "\n",
        "tagged_words = brown.tagged_words(categories='mystery')\n",
        "print('Tagged words in mystery category')\n",
        "print(tagged_words)\n",
        "\n",
        "\n",
        "print('Nouns from tagged words')\n",
        "nouns = [(word, tag) for word, tag in tagged_words if any(noun_tag in tag for noun_tag\n",
        "in ['NP', 'NN'])]\n",
        "print(nouns[0:10])\n",
        "\n",
        "\n",
        "nouns_freq = nltk.FreqDist([word for word, tag in nouns])\n",
        "\n",
        "\n",
        "\n",
        "print('Top 10 occuring nouns')\n",
        "print(nouns_freq.most_common(10))\n",
        "\n",
        "\n",
        "from nltk.corpus import reuters\n",
        "print('Total Categories:', len(reuters.categories()))\n",
        "print(reuters.categories())\n",
        "\n",
        "\n",
        "sentences = reuters.sents(categories=['housing', 'income'])\n",
        "sentences = [' '.join(sentence_tokens) for sentence_tokens in sentences]\n",
        "print('First 5 sentences in housing and income category')\n",
        "print(sentences[0:5])\n",
        "\n",
        "\n",
        "print('Fileids of housing and income categories')\n",
        "print(reuters.fileids(categories=['housing', 'income']))\n",
        "print('Sentences of two fileids')\n",
        "print(reuters.sents(fileids=[u'test/16118', u'test/18534']))\n",
        "\n",
        "from nltk.corpus import wordnet as wn\n",
        "word = 'hike'\n",
        "\n",
        "\n",
        "word_synsets = wn.synsets(word)\n",
        "print(word_synsets)\n",
        "\n",
        "\n",
        "for synset in word_synsets:\n",
        "print('Synset Name:', synset.name())\n",
        "print('POS Tag:', synset.pos())\n",
        "print('Definition:', synset.definition())\n",
        "print('Examples:', synset.examples())"
      ]
    }
  ]
}