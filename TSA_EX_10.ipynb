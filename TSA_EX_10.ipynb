{
  "nbformat": 4,
  "nbformat_minor": 0,
  "metadata": {
    "colab": {
      "provenance": []
    },
    "kernelspec": {
      "name": "python3",
      "display_name": "Python 3"
    },
    "language_info": {
      "name": "python"
    }
  },
  "cells": [
    {
      "cell_type": "code",
      "execution_count": null,
      "metadata": {
        "id": "hM7vf8dIpHiL"
      },
      "outputs": [],
      "source": [
        "!apt-get update\n",
        "!apt-get install -y portaudio19-dev\n",
        "!pip install pyaudio\n",
        "\n",
        "\n",
        "import speech_recognition as sr\n",
        "\n",
        "def recognize_speech():\n",
        "\n",
        "\n",
        "    recognizer = sr.Recognizer()\n",
        "\n",
        "\n",
        "\n",
        "    with sr.Microphone() as source:\n",
        "        print(\"Listening...\")\n",
        "\n",
        "\n",
        "\n",
        "        recognizer.adjust_for_ambient_noise(source)\n",
        "\n",
        "\n",
        "\n",
        "        audio_data = recognizer.listen(source)\n",
        "        print(\"Processing...\")\n",
        "\n",
        "    try:\n",
        "\n",
        "\n",
        "        text = recognizer.recognize_google(audio_data)\n",
        "        print(\"Recognized speech:\", text)\n",
        "\n",
        "    except sr.UnknownValueError:\n",
        "        print(\"Sorry, I couldn't understand what you said.\")\n",
        "\n",
        "    except sr.RequestError as e:\n",
        "        print(\"Error accessing Google Web Speech API:\", e)\n",
        "\n",
        "\n",
        "\n",
        "if __name__ == \"__main__\":\n",
        "    recognize_speech()\n"
      ]
    }
  ]
}